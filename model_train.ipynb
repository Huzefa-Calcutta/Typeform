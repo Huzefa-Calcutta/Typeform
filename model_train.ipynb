{
 "cells": [
  {
   "cell_type": "code",
   "execution_count": 11,
   "metadata": {
    "scrolled": true
   },
   "outputs": [],
   "source": [
    "import os\n",
    "import sys\n",
    "from sklearn.pipeline import Pipeline\n",
    "import joblib\n",
    "from sklearn.ensemble import RandomForestRegressor\n",
    "from sklearn.model_selection import GridSearchCV, train_test_split\n",
    "import numpy as np\n",
    "import pandas as pd\n",
    "import matplotlib.pyplot as plt\n",
    "import seaborn as sns"
   ]
  },
  {
   "cell_type": "code",
   "execution_count": 12,
   "metadata": {},
   "outputs": [],
   "source": [
    "rows = []\n",
    "\n",
    "with open(\"Huzefa Data Set.csv\", 'r') as inp:\n",
    "    for line in inp:\n",
    "        tok = line.strip().replace(\")\", '').replace(\"(\",'').split(\",\")\n",
    "        features = tok[-1].split(\"-\")\n",
    "        tok = tok[:-1] + features\n",
    "        rows.append(tok)\n",
    "\n",
    "data = pd.DataFrame(rows)\n",
    "columns = ['form_id', 'views', 'submission'] + [\"x_%d\" % i for i in range(len(rows[0])-3)]\n",
    "data.columns = columns\n",
    "\n",
    "data = data.astype(float)\n",
    "data['form_id'] = data['form_id'].astype(int)"
   ]
  },
  {
   "cell_type": "code",
   "execution_count": 13,
   "metadata": {},
   "outputs": [
    {
     "data": {
      "image/png": "[encoded data removed]",
      "text/plain": [
       "<Figure size 432x288 with 1 Axes>"
      ]
     },
     "metadata": {
      "needs_background": "light"
     },
     "output_type": "display_data"
    }
   ],
   "source": [
    "data['completion_rate'] = data['submission']/data['views']\n",
    "data['completion_rate'].plot.hist()\n",
    "plt.show()"
   ]
  },
  {
   "cell_type": "code",
   "execution_count": 14,
   "metadata": {
    "scrolled": true
   },
   "outputs": [
    {
     "data": {
      "text/html": [
       "<div>\n",
       "<style scoped>\n",
       "    .dataframe tbody tr th:only-of-type {\n",
       "        vertical-align: middle;\n",
       "    }\n",
       "\n",
       "    .dataframe tbody tr th {\n",
       "        vertical-align: top;\n",
       "    }\n",
       "\n",
       "    .dataframe thead th {\n",
       "        text-align: right;\n",
       "    }\n",
       "</style>\n",
       "<table border=\"1\" class=\"dataframe\">\n",
       "  <thead>\n",
       "    <tr style=\"text-align: right;\">\n",
       "      <th></th>\n",
       "      <th>mean</th>\n",
       "      <th>std</th>\n",
       "      <th>min</th>\n",
       "      <th>25%</th>\n",
       "      <th>50%</th>\n",
       "      <th>75%</th>\n",
       "      <th>max</th>\n",
       "    </tr>\n",
       "  </thead>\n",
       "  <tbody>\n",
       "    <tr>\n",
       "      <th>x_0</th>\n",
       "      <td>0.195451</td>\n",
       "      <td>0.396548</td>\n",
       "      <td>0.0</td>\n",
       "      <td>0.0</td>\n",
       "      <td>0.0</td>\n",
       "      <td>0.0</td>\n",
       "      <td>1.0</td>\n",
       "    </tr>\n",
       "    <tr>\n",
       "      <th>x_1</th>\n",
       "      <td>0.374912</td>\n",
       "      <td>0.933426</td>\n",
       "      <td>0.0</td>\n",
       "      <td>0.0</td>\n",
       "      <td>0.0</td>\n",
       "      <td>0.0</td>\n",
       "      <td>55.0</td>\n",
       "    </tr>\n",
       "    <tr>\n",
       "      <th>x_2</th>\n",
       "      <td>0.054973</td>\n",
       "      <td>0.440341</td>\n",
       "      <td>0.0</td>\n",
       "      <td>0.0</td>\n",
       "      <td>0.0</td>\n",
       "      <td>0.0</td>\n",
       "      <td>78.0</td>\n",
       "    </tr>\n",
       "    <tr>\n",
       "      <th>x_3</th>\n",
       "      <td>0.001025</td>\n",
       "      <td>0.033071</td>\n",
       "      <td>0.0</td>\n",
       "      <td>0.0</td>\n",
       "      <td>0.0</td>\n",
       "      <td>0.0</td>\n",
       "      <td>5.0</td>\n",
       "    </tr>\n",
       "    <tr>\n",
       "      <th>x_4</th>\n",
       "      <td>0.144949</td>\n",
       "      <td>0.480263</td>\n",
       "      <td>0.0</td>\n",
       "      <td>0.0</td>\n",
       "      <td>0.0</td>\n",
       "      <td>0.0</td>\n",
       "      <td>87.0</td>\n",
       "    </tr>\n",
       "    <tr>\n",
       "      <th>x_5</th>\n",
       "      <td>0.176905</td>\n",
       "      <td>0.947293</td>\n",
       "      <td>0.0</td>\n",
       "      <td>0.0</td>\n",
       "      <td>0.0</td>\n",
       "      <td>0.0</td>\n",
       "      <td>96.0</td>\n",
       "    </tr>\n",
       "    <tr>\n",
       "      <th>x_6</th>\n",
       "      <td>0.851395</td>\n",
       "      <td>1.883366</td>\n",
       "      <td>0.0</td>\n",
       "      <td>0.0</td>\n",
       "      <td>0.0</td>\n",
       "      <td>1.0</td>\n",
       "      <td>124.0</td>\n",
       "    </tr>\n",
       "    <tr>\n",
       "      <th>x_7</th>\n",
       "      <td>0.096056</td>\n",
       "      <td>0.310995</td>\n",
       "      <td>0.0</td>\n",
       "      <td>0.0</td>\n",
       "      <td>0.0</td>\n",
       "      <td>0.0</td>\n",
       "      <td>15.0</td>\n",
       "    </tr>\n",
       "    <tr>\n",
       "      <th>x_8</th>\n",
       "      <td>0.660574</td>\n",
       "      <td>1.240156</td>\n",
       "      <td>0.0</td>\n",
       "      <td>0.0</td>\n",
       "      <td>0.0</td>\n",
       "      <td>1.0</td>\n",
       "      <td>165.0</td>\n",
       "    </tr>\n",
       "    <tr>\n",
       "      <th>x_9</th>\n",
       "      <td>0.013566</td>\n",
       "      <td>0.133814</td>\n",
       "      <td>0.0</td>\n",
       "      <td>0.0</td>\n",
       "      <td>0.0</td>\n",
       "      <td>0.0</td>\n",
       "      <td>16.0</td>\n",
       "    </tr>\n",
       "    <tr>\n",
       "      <th>x_10</th>\n",
       "      <td>0.128729</td>\n",
       "      <td>0.539946</td>\n",
       "      <td>0.0</td>\n",
       "      <td>0.0</td>\n",
       "      <td>0.0</td>\n",
       "      <td>0.0</td>\n",
       "      <td>38.0</td>\n",
       "    </tr>\n",
       "    <tr>\n",
       "      <th>x_11</th>\n",
       "      <td>0.026849</td>\n",
       "      <td>0.284199</td>\n",
       "      <td>0.0</td>\n",
       "      <td>0.0</td>\n",
       "      <td>0.0</td>\n",
       "      <td>0.0</td>\n",
       "      <td>37.0</td>\n",
       "    </tr>\n",
       "    <tr>\n",
       "      <th>x_12</th>\n",
       "      <td>0.024748</td>\n",
       "      <td>0.203544</td>\n",
       "      <td>0.0</td>\n",
       "      <td>0.0</td>\n",
       "      <td>0.0</td>\n",
       "      <td>0.0</td>\n",
       "      <td>31.0</td>\n",
       "    </tr>\n",
       "    <tr>\n",
       "      <th>x_13</th>\n",
       "      <td>0.224037</td>\n",
       "      <td>0.829535</td>\n",
       "      <td>0.0</td>\n",
       "      <td>0.0</td>\n",
       "      <td>0.0</td>\n",
       "      <td>0.0</td>\n",
       "      <td>79.0</td>\n",
       "    </tr>\n",
       "    <tr>\n",
       "      <th>x_14</th>\n",
       "      <td>0.012046</td>\n",
       "      <td>0.129374</td>\n",
       "      <td>0.0</td>\n",
       "      <td>0.0</td>\n",
       "      <td>0.0</td>\n",
       "      <td>0.0</td>\n",
       "      <td>16.0</td>\n",
       "    </tr>\n",
       "    <tr>\n",
       "      <th>x_15</th>\n",
       "      <td>0.081291</td>\n",
       "      <td>0.693230</td>\n",
       "      <td>0.0</td>\n",
       "      <td>0.0</td>\n",
       "      <td>0.0</td>\n",
       "      <td>0.0</td>\n",
       "      <td>137.0</td>\n",
       "    </tr>\n",
       "    <tr>\n",
       "      <th>x_16</th>\n",
       "      <td>0.184649</td>\n",
       "      <td>0.824048</td>\n",
       "      <td>0.0</td>\n",
       "      <td>0.0</td>\n",
       "      <td>0.0</td>\n",
       "      <td>0.0</td>\n",
       "      <td>135.0</td>\n",
       "    </tr>\n",
       "    <tr>\n",
       "      <th>x_17</th>\n",
       "      <td>0.067395</td>\n",
       "      <td>0.459951</td>\n",
       "      <td>0.0</td>\n",
       "      <td>0.0</td>\n",
       "      <td>0.0</td>\n",
       "      <td>0.0</td>\n",
       "      <td>46.0</td>\n",
       "    </tr>\n",
       "    <tr>\n",
       "      <th>x_18</th>\n",
       "      <td>0.299204</td>\n",
       "      <td>1.379196</td>\n",
       "      <td>0.0</td>\n",
       "      <td>0.0</td>\n",
       "      <td>0.0</td>\n",
       "      <td>0.0</td>\n",
       "      <td>105.0</td>\n",
       "    </tr>\n",
       "    <tr>\n",
       "      <th>x_19</th>\n",
       "      <td>0.002134</td>\n",
       "      <td>0.046148</td>\n",
       "      <td>0.0</td>\n",
       "      <td>0.0</td>\n",
       "      <td>0.0</td>\n",
       "      <td>0.0</td>\n",
       "      <td>1.0</td>\n",
       "    </tr>\n",
       "    <tr>\n",
       "      <th>x_20</th>\n",
       "      <td>3.608233</td>\n",
       "      <td>4.251488</td>\n",
       "      <td>0.0</td>\n",
       "      <td>1.0</td>\n",
       "      <td>2.0</td>\n",
       "      <td>4.0</td>\n",
       "      <td>236.0</td>\n",
       "    </tr>\n",
       "    <tr>\n",
       "      <th>x_21</th>\n",
       "      <td>0.689879</td>\n",
       "      <td>1.637072</td>\n",
       "      <td>0.0</td>\n",
       "      <td>0.0</td>\n",
       "      <td>0.0</td>\n",
       "      <td>1.0</td>\n",
       "      <td>134.0</td>\n",
       "    </tr>\n",
       "    <tr>\n",
       "      <th>x_22</th>\n",
       "      <td>1.732705</td>\n",
       "      <td>2.948574</td>\n",
       "      <td>0.0</td>\n",
       "      <td>0.0</td>\n",
       "      <td>1.0</td>\n",
       "      <td>2.0</td>\n",
       "      <td>205.0</td>\n",
       "    </tr>\n",
       "    <tr>\n",
       "      <th>x_23</th>\n",
       "      <td>0.039932</td>\n",
       "      <td>0.308583</td>\n",
       "      <td>0.0</td>\n",
       "      <td>0.0</td>\n",
       "      <td>0.0</td>\n",
       "      <td>0.0</td>\n",
       "      <td>29.0</td>\n",
       "    </tr>\n",
       "    <tr>\n",
       "      <th>x_24</th>\n",
       "      <td>0.356766</td>\n",
       "      <td>0.988336</td>\n",
       "      <td>0.0</td>\n",
       "      <td>0.0</td>\n",
       "      <td>0.0</td>\n",
       "      <td>1.0</td>\n",
       "      <td>74.0</td>\n",
       "    </tr>\n",
       "    <tr>\n",
       "      <th>x_25</th>\n",
       "      <td>0.009742</td>\n",
       "      <td>0.233851</td>\n",
       "      <td>0.0</td>\n",
       "      <td>0.0</td>\n",
       "      <td>0.0</td>\n",
       "      <td>0.0</td>\n",
       "      <td>91.0</td>\n",
       "    </tr>\n",
       "    <tr>\n",
       "      <th>x_26</th>\n",
       "      <td>0.077103</td>\n",
       "      <td>0.538711</td>\n",
       "      <td>0.0</td>\n",
       "      <td>0.0</td>\n",
       "      <td>0.0</td>\n",
       "      <td>0.0</td>\n",
       "      <td>47.0</td>\n",
       "    </tr>\n",
       "    <tr>\n",
       "      <th>x_27</th>\n",
       "      <td>0.174606</td>\n",
       "      <td>0.619008</td>\n",
       "      <td>0.0</td>\n",
       "      <td>0.0</td>\n",
       "      <td>0.0</td>\n",
       "      <td>0.0</td>\n",
       "      <td>59.0</td>\n",
       "    </tr>\n",
       "    <tr>\n",
       "      <th>x_28</th>\n",
       "      <td>0.180387</td>\n",
       "      <td>0.655176</td>\n",
       "      <td>0.0</td>\n",
       "      <td>0.0</td>\n",
       "      <td>0.0</td>\n",
       "      <td>0.0</td>\n",
       "      <td>68.0</td>\n",
       "    </tr>\n",
       "    <tr>\n",
       "      <th>x_29</th>\n",
       "      <td>0.513140</td>\n",
       "      <td>1.494264</td>\n",
       "      <td>0.0</td>\n",
       "      <td>0.0</td>\n",
       "      <td>0.0</td>\n",
       "      <td>1.0</td>\n",
       "      <td>124.0</td>\n",
       "    </tr>\n",
       "    <tr>\n",
       "      <th>x_30</th>\n",
       "      <td>0.011035</td>\n",
       "      <td>0.201211</td>\n",
       "      <td>0.0</td>\n",
       "      <td>0.0</td>\n",
       "      <td>0.0</td>\n",
       "      <td>0.0</td>\n",
       "      <td>75.0</td>\n",
       "    </tr>\n",
       "    <tr>\n",
       "      <th>x_31</th>\n",
       "      <td>0.015246</td>\n",
       "      <td>0.220746</td>\n",
       "      <td>0.0</td>\n",
       "      <td>0.0</td>\n",
       "      <td>0.0</td>\n",
       "      <td>0.0</td>\n",
       "      <td>38.0</td>\n",
       "    </tr>\n",
       "    <tr>\n",
       "      <th>x_32</th>\n",
       "      <td>0.494808</td>\n",
       "      <td>1.702317</td>\n",
       "      <td>0.0</td>\n",
       "      <td>0.0</td>\n",
       "      <td>0.0</td>\n",
       "      <td>0.0</td>\n",
       "      <td>105.0</td>\n",
       "    </tr>\n",
       "    <tr>\n",
       "      <th>x_33</th>\n",
       "      <td>0.176905</td>\n",
       "      <td>0.947293</td>\n",
       "      <td>0.0</td>\n",
       "      <td>0.0</td>\n",
       "      <td>0.0</td>\n",
       "      <td>0.0</td>\n",
       "      <td>96.0</td>\n",
       "    </tr>\n",
       "    <tr>\n",
       "      <th>x_34</th>\n",
       "      <td>0.013223</td>\n",
       "      <td>0.164918</td>\n",
       "      <td>0.0</td>\n",
       "      <td>0.0</td>\n",
       "      <td>0.0</td>\n",
       "      <td>0.0</td>\n",
       "      <td>58.0</td>\n",
       "    </tr>\n",
       "    <tr>\n",
       "      <th>x_35</th>\n",
       "      <td>0.239905</td>\n",
       "      <td>1.266305</td>\n",
       "      <td>0.0</td>\n",
       "      <td>0.0</td>\n",
       "      <td>0.0</td>\n",
       "      <td>0.0</td>\n",
       "      <td>105.0</td>\n",
       "    </tr>\n",
       "    <tr>\n",
       "      <th>x_36</th>\n",
       "      <td>0.102326</td>\n",
       "      <td>0.855747</td>\n",
       "      <td>0.0</td>\n",
       "      <td>0.0</td>\n",
       "      <td>0.0</td>\n",
       "      <td>0.0</td>\n",
       "      <td>100.0</td>\n",
       "    </tr>\n",
       "    <tr>\n",
       "      <th>x_37</th>\n",
       "      <td>0.239957</td>\n",
       "      <td>1.266072</td>\n",
       "      <td>0.0</td>\n",
       "      <td>0.0</td>\n",
       "      <td>0.0</td>\n",
       "      <td>0.0</td>\n",
       "      <td>105.0</td>\n",
       "    </tr>\n",
       "    <tr>\n",
       "      <th>x_38</th>\n",
       "      <td>0.058792</td>\n",
       "      <td>0.419843</td>\n",
       "      <td>0.0</td>\n",
       "      <td>0.0</td>\n",
       "      <td>0.0</td>\n",
       "      <td>0.0</td>\n",
       "      <td>46.0</td>\n",
       "    </tr>\n",
       "    <tr>\n",
       "      <th>x_39</th>\n",
       "      <td>0.194830</td>\n",
       "      <td>1.173311</td>\n",
       "      <td>0.0</td>\n",
       "      <td>0.0</td>\n",
       "      <td>0.0</td>\n",
       "      <td>0.0</td>\n",
       "      <td>100.0</td>\n",
       "    </tr>\n",
       "    <tr>\n",
       "      <th>x_40</th>\n",
       "      <td>0.155116</td>\n",
       "      <td>0.766822</td>\n",
       "      <td>0.0</td>\n",
       "      <td>0.0</td>\n",
       "      <td>0.0</td>\n",
       "      <td>0.0</td>\n",
       "      <td>135.0</td>\n",
       "    </tr>\n",
       "    <tr>\n",
       "      <th>x_41</th>\n",
       "      <td>0.277168</td>\n",
       "      <td>0.564083</td>\n",
       "      <td>0.0</td>\n",
       "      <td>0.0</td>\n",
       "      <td>0.0</td>\n",
       "      <td>1.0</td>\n",
       "      <td>87.0</td>\n",
       "    </tr>\n",
       "    <tr>\n",
       "      <th>x_42</th>\n",
       "      <td>0.339979</td>\n",
       "      <td>0.615758</td>\n",
       "      <td>0.0</td>\n",
       "      <td>0.0</td>\n",
       "      <td>0.0</td>\n",
       "      <td>1.0</td>\n",
       "      <td>87.0</td>\n",
       "    </tr>\n",
       "    <tr>\n",
       "      <th>x_43</th>\n",
       "      <td>0.048034</td>\n",
       "      <td>0.283447</td>\n",
       "      <td>0.0</td>\n",
       "      <td>0.0</td>\n",
       "      <td>0.0</td>\n",
       "      <td>0.0</td>\n",
       "      <td>87.0</td>\n",
       "    </tr>\n",
       "    <tr>\n",
       "      <th>x_44</th>\n",
       "      <td>0.831875</td>\n",
       "      <td>4.302039</td>\n",
       "      <td>0.0</td>\n",
       "      <td>0.0</td>\n",
       "      <td>0.0</td>\n",
       "      <td>0.0</td>\n",
       "      <td>590.0</td>\n",
       "    </tr>\n",
       "    <tr>\n",
       "      <th>x_45</th>\n",
       "      <td>0.647003</td>\n",
       "      <td>6.045358</td>\n",
       "      <td>0.0</td>\n",
       "      <td>0.0</td>\n",
       "      <td>0.0</td>\n",
       "      <td>0.0</td>\n",
       "      <td>2065.0</td>\n",
       "    </tr>\n",
       "    <tr>\n",
       "      <th>x_46</th>\n",
       "      <td>4.468738</td>\n",
       "      <td>10.851616</td>\n",
       "      <td>0.0</td>\n",
       "      <td>0.0</td>\n",
       "      <td>0.0</td>\n",
       "      <td>5.0</td>\n",
       "      <td>1145.0</td>\n",
       "    </tr>\n",
       "  </tbody>\n",
       "</table>\n",
       "</div>"
      ],
      "text/plain": [
       "          mean        std  min  25%  50%  75%     max\n",
       "x_0   0.195451   0.396548  0.0  0.0  0.0  0.0     1.0\n",
       "x_1   0.374912   0.933426  0.0  0.0  0.0  0.0    55.0\n",
       "x_2   0.054973   0.440341  0.0  0.0  0.0  0.0    78.0\n",
       "x_3   0.001025   0.033071  0.0  0.0  0.0  0.0     5.0\n",
       "x_4   0.144949   0.480263  0.0  0.0  0.0  0.0    87.0\n",
       "x_5   0.176905   0.947293  0.0  0.0  0.0  0.0    96.0\n",
       "x_6   0.851395   1.883366  0.0  0.0  0.0  1.0   124.0\n",
       "x_7   0.096056   0.310995  0.0  0.0  0.0  0.0    15.0\n",
       "x_8   0.660574   1.240156  0.0  0.0  0.0  1.0   165.0\n",
       "x_9   0.013566   0.133814  0.0  0.0  0.0  0.0    16.0\n",
       "x_10  0.128729   0.539946  0.0  0.0  0.0  0.0    38.0\n",
       "x_11  0.026849   0.284199  0.0  0.0  0.0  0.0    37.0\n",
       "x_12  0.024748   0.203544  0.0  0.0  0.0  0.0    31.0\n",
       "x_13  0.224037   0.829535  0.0  0.0  0.0  0.0    79.0\n",
       "x_14  0.012046   0.129374  0.0  0.0  0.0  0.0    16.0\n",
       "x_15  0.081291   0.693230  0.0  0.0  0.0  0.0   137.0\n",
       "x_16  0.184649   0.824048  0.0  0.0  0.0  0.0   135.0\n",
       "x_17  0.067395   0.459951  0.0  0.0  0.0  0.0    46.0\n",
       "x_18  0.299204   1.379196  0.0  0.0  0.0  0.0   105.0\n",
       "x_19  0.002134   0.046148  0.0  0.0  0.0  0.0     1.0\n",
       "x_20  3.608233   4.251488  0.0  1.0  2.0  4.0   236.0\n",
       "x_21  0.689879   1.637072  0.0  0.0  0.0  1.0   134.0\n",
       "x_22  1.732705   2.948574  0.0  0.0  1.0  2.0   205.0\n",
       "x_23  0.039932   0.308583  0.0  0.0  0.0  0.0    29.0\n",
       "x_24  0.356766   0.988336  0.0  0.0  0.0  1.0    74.0\n",
       "x_25  0.009742   0.233851  0.0  0.0  0.0  0.0    91.0\n",
       "x_26  0.077103   0.538711  0.0  0.0  0.0  0.0    47.0\n",
       "x_27  0.174606   0.619008  0.0  0.0  0.0  0.0    59.0\n",
       "x_28  0.180387   0.655176  0.0  0.0  0.0  0.0    68.0\n",
       "x_29  0.513140   1.494264  0.0  0.0  0.0  1.0   124.0\n",
       "x_30  0.011035   0.201211  0.0  0.0  0.0  0.0    75.0\n",
       "x_31  0.015246   0.220746  0.0  0.0  0.0  0.0    38.0\n",
       "x_32  0.494808   1.702317  0.0  0.0  0.0  0.0   105.0\n",
       "x_33  0.176905   0.947293  0.0  0.0  0.0  0.0    96.0\n",
       "x_34  0.013223   0.164918  0.0  0.0  0.0  0.0    58.0\n",
       "x_35  0.239905   1.266305  0.0  0.0  0.0  0.0   105.0\n",
       "x_36  0.102326   0.855747  0.0  0.0  0.0  0.0   100.0\n",
       "x_37  0.239957   1.266072  0.0  0.0  0.0  0.0   105.0\n",
       "x_38  0.058792   0.419843  0.0  0.0  0.0  0.0    46.0\n",
       "x_39  0.194830   1.173311  0.0  0.0  0.0  0.0   100.0\n",
       "x_40  0.155116   0.766822  0.0  0.0  0.0  0.0   135.0\n",
       "x_41  0.277168   0.564083  0.0  0.0  0.0  1.0    87.0\n",
       "x_42  0.339979   0.615758  0.0  0.0  0.0  1.0    87.0\n",
       "x_43  0.048034   0.283447  0.0  0.0  0.0  0.0    87.0\n",
       "x_44  0.831875   4.302039  0.0  0.0  0.0  0.0   590.0\n",
       "x_45  0.647003   6.045358  0.0  0.0  0.0  0.0  2065.0\n",
       "x_46  4.468738  10.851616  0.0  0.0  0.0  5.0  1145.0"
      ]
     },
     "execution_count": 14,
     "metadata": {},
     "output_type": "execute_result"
    }
   ],
   "source": [
    "data[[\"x_%d\" % i for i in range(len(rows[0])-3)]].describe().loc[['mean','std','min','25%','50%','75%','max']].transpose()"
   ]
  },
  {
   "cell_type": "code",
   "execution_count": 17,
   "metadata": {},
   "outputs": [
    {
     "name": "stderr",
     "output_type": "stream",
     "text": [
      "/home/dgxuser_layersvanguard/anaconda/lib/python3.7/site-packages/matplotlib/pyplot.py:514: RuntimeWarning: More than 20 figures have been opened. Figures created through the pyplot interface (`matplotlib.pyplot.figure`) are retained until explicitly closed and may consume too much memory. (To control this warning, see the rcParam `figure.max_open_warning`).\n",
      "  max_open_warning, RuntimeWarning)\n"
     ]
    },
    {
     "data": {
      "image/png": "[encoded data removed]",
      "text/plain": [
       "<Figure size 864x288 with 1 Axes>"
      ]
     },
     "metadata": {
      "needs_background": "light"
     },
     "output_type": "display_data"
    },
    {
     "data": {
      "image/png": "[encoded data removed]",
      "text/plain": [
       "<Figure size 864x288 with 1 Axes>"
      ]
     },
     "metadata": {
      "needs_background": "light"
     },
     "output_type": "display_data"
    },
    {
     "data": {
      "image/png": "[encoded data removed]",
      "text/plain": [
       "<Figure size 864x288 with 1 Axes>"
      ]
     },
     "metadata": {
      "needs_background": "light"
     },
     "output_type": "display_data"
    },
    {
     "data": {
      "image/png": "[encoded data removed]",
      "text/plain": [
       "<Figure size 864x288 with 1 Axes>"
      ]
     },
     "metadata": {
      "needs_background": "light"
     },
     "output_type": "display_data"
    },
    {
     "data": {
      "image/png": "[encoded data removed]",
      "text/plain": [
       "<Figure size 864x288 with 1 Axes>"
      ]
     },
     "metadata": {
      "needs_background": "light"
     },
     "output_type": "display_data"
    },
    {
     "data": {
      "image/png": "[encoded data removed]",
      "text/plain": [
       "<Figure size 864x288 with 1 Axes>"
      ]
     },
     "metadata": {
      "needs_background": "light"
     },
     "output_type": "display_data"
    },
    {
     "data": {
      "image/png": "[encoded data removed]",
      "text/plain": [
       "<Figure size 864x288 with 1 Axes>"
      ]
     },
     "metadata": {
      "needs_background": "light"
     },
     "output_type": "display_data"
    },
    {
     "data": {
      "image/png": "[encoded data removed]",
      "text/plain": [
       "<Figure size 864x288 with 1 Axes>"
      ]
     },
     "metadata": {
      "needs_background": "light"
     },
     "output_type": "display_data"
    },
    {
     "data": {
      "image/png": "[encoded data removed]",
      "text/plain": [
       "<Figure size 864x288 with 1 Axes>"
      ]
     },
     "metadata": {
      "needs_background": "light"
     },
     "output_type": "display_data"
    },
    {
     "data": {
      "image/png": "[encoded data removed]",
      "text/plain": [
       "<Figure size 864x288 with 1 Axes>"
      ]
     },
     "metadata": {
      "needs_background": "light"
     },
     "output_type": "display_data"
    },
    {
     "data": {
      "image/png": "[encoded data removed]",
      "text/plain": [
       "<Figure size 864x288 with 1 Axes>"
      ]
     },
     "metadata": {
      "needs_background": "light"
     },
     "output_type": "display_data"
    },
    {
     "data": {
      "image/png": "[encoded data removed]",
      "text/plain": [
       "<Figure size 864x288 with 1 Axes>"
      ]
     },
     "metadata": {
      "needs_background": "light"
     },
     "output_type": "display_data"
    },
    {
     "data": {
      "image/png": "[encoded data removed]",
      "text/plain": [
       "<Figure size 864x288 with 1 Axes>"
      ]
     },
     "metadata": {
      "needs_background": "light"
     },
     "output_type": "display_data"
    },
    {
     "data": {
      "image/png": "[encoded data removed]",
      "text/plain": [
       "<Figure size 864x288 with 1 Axes>"
      ]
     },
     "metadata": {
      "needs_background": "light"
     },
     "output_type": "display_data"
    },
    {
     "data": {
      "image/png": "[encoded data removed]",
      "text/plain": [
       "<Figure size 864x288 with 1 Axes>"
      ]
     },
     "metadata": {
      "needs_background": "light"
     },
     "output_type": "display_data"
    },
    {
     "data": {
      "image/png": "[encoded data removed]",
      "text/plain": [
       "<Figure size 864x288 with 1 Axes>"
      ]
     },
     "metadata": {
      "needs_background": "light"
     },
     "output_type": "display_data"
    },
    {
     "data": {
      "image/png": "[encoded data removed]",
      "text/plain": [
       "<Figure size 864x288 with 1 Axes>"
      ]
     },
     "metadata": {
      "needs_background": "light"
     },
     "output_type": "display_data"
    },
    {
     "data": {
      "image/png": "[encoded data removed]",
      "text/plain": [
       "<Figure size 864x288 with 1 Axes>"
      ]
     },
     "metadata": {
      "needs_background": "light"
     },
     "output_type": "display_data"
    },
    {
     "data": {
      "image/png": "[encoded data removed]",
      "text/plain": [
       "<Figure size 864x288 with 1 Axes>"
      ]
     },
     "metadata": {
      "needs_background": "light"
     },
     "output_type": "display_data"
    },
    {
     "data": {
      "image/png": "[encoded data removed]",
      "text/plain": [
       "<Figure size 864x288 with 1 Axes>"
      ]
     },
     "metadata": {
      "needs_background": "light"
     },
     "output_type": "display_data"
    },
    {
     "data": {
      "image/png": "[encoded data removed]",
      "text/plain": [
       "<Figure size 864x288 with 1 Axes>"
      ]
     },
     "metadata": {
      "needs_background": "light"
     },
     "output_type": "display_data"
    },
    {
     "data": {
      "image/png": "[encoded data removed]",
      "text/plain": [
       "<Figure size 864x288 with 1 Axes>"
      ]
     },
     "metadata": {
      "needs_background": "light"
     },
     "output_type": "display_data"
    },
    {
     "data": {
      "image/png": "[encoded data removed]",
      "text/plain": [
       "<Figure size 864x288 with 1 Axes>"
      ]
     },
     "metadata": {
      "needs_background": "light"
     },
     "output_type": "display_data"
    },
    {
     "data": {
      "image/png": "[encoded data removed]",
      "text/plain": [
       "<Figure size 864x288 with 1 Axes>"
      ]
     },
     "metadata": {
      "needs_background": "light"
     },
     "output_type": "display_data"
    },
    {
     "data": {
      "image/png": "[encoded data removed]",
      "text/plain": [
       "<Figure size 864x288 with 1 Axes>"
      ]
     },
     "metadata": {
      "needs_background": "light"
     },
     "output_type": "display_data"
    },
    {
     "data": {
      "image/png": "[encoded data removed]",
      "text/plain": [
       "<Figure size 864x288 with 1 Axes>"
      ]
     },
     "metadata": {
      "needs_background": "light"
     },
     "output_type": "display_data"
    },
    {
     "data": {
      "image/png": "[encoded data removed]",
      "text/plain": [
       "<Figure size 864x288 with 1 Axes>"
      ]
     },
     "metadata": {
      "needs_background": "light"
     },
     "output_type": "display_data"
    },
    {
     "data": {
      "image/png": "[encoded data removed]",
      "text/plain": [
       "<Figure size 864x288 with 1 Axes>"
      ]
     },
     "metadata": {
      "needs_background": "light"
     },
     "output_type": "display_data"
    },
    {
     "data": {
      "image/png": "[encoded data removed]",
      "text/plain": [
       "<Figure size 864x288 with 1 Axes>"
      ]
     },
     "metadata": {
      "needs_background": "light"
     },
     "output_type": "display_data"
    },
    {
     "data": {
      "image/png": "[encoded data removed]",
      "text/plain": [
       "<Figure size 864x288 with 1 Axes>"
      ]
     },
     "metadata": {
      "needs_background": "light"
     },
     "output_type": "display_data"
    },
    {
     "data": {
      "image/png": "[encoded data removed]",
      "text/plain": [
       "<Figure size 864x288 with 1 Axes>"
      ]
     },
     "metadata": {
      "needs_background": "light"
     },
     "output_type": "display_data"
    },
    {
     "data": {
      "image/png": "[encoded data removed]",
      "text/plain": [
       "<Figure size 864x288 with 1 Axes>"
      ]
     },
     "metadata": {
      "needs_background": "light"
     },
     "output_type": "display_data"
    },
    {
     "data": {
      "image/png": "[encoded data removed]",
      "text/plain": [
       "<Figure size 864x288 with 1 Axes>"
      ]
     },
     "metadata": {
      "needs_background": "light"
     },
     "output_type": "display_data"
    },
    {
     "data": {
      "image/png": "[encoded data removed]",
      "text/plain": [
       "<Figure size 864x288 with 1 Axes>"
      ]
     },
     "metadata": {
      "needs_background": "light"
     },
     "output_type": "display_data"
    },
    {
     "data": {
      "image/png": "[encoded data removed]",
      "text/plain": [
       "<Figure size 864x288 with 1 Axes>"
      ]
     },
     "metadata": {
      "needs_background": "light"
     },
     "output_type": "display_data"
    },
    {
     "data": {
      "image/png": "[encoded data removed]",
      "text/plain": [
       "<Figure size 864x288 with 1 Axes>"
      ]
     },
     "metadata": {
      "needs_background": "light"
     },
     "output_type": "display_data"
    },
    {
     "data": {
      "image/png": "[encoded data removed]",
      "text/plain": [
       "<Figure size 864x288 with 1 Axes>"
      ]
     },
     "metadata": {
      "needs_background": "light"
     },
     "output_type": "display_data"
    },
    {
     "data": {
      "image/png": "[encoded data removed]",
      "text/plain": [
       "<Figure size 864x288 with 1 Axes>"
      ]
     },
     "metadata": {
      "needs_background": "light"
     },
     "output_type": "display_data"
    },
    {
     "data": {
      "image/png": "[encoded data removed]",
      "text/plain": [
       "<Figure size 864x288 with 1 Axes>"
      ]
     },
     "metadata": {
      "needs_background": "light"
     },
     "output_type": "display_data"
    },
    {
     "data": {
      "image/png": "[encoded data removed]",
      "text/plain": [
       "<Figure size 864x288 with 1 Axes>"
      ]
     },
     "metadata": {
      "needs_background": "light"
     },
     "output_type": "display_data"
    },
    {
     "data": {
      "image/png": "[encoded data removed]",
      "text/plain": [
       "<Figure size 864x288 with 1 Axes>"
      ]
     },
     "metadata": {
      "needs_background": "light"
     },
     "output_type": "display_data"
    },
    {
     "data": {
      "image/png": "[encoded data removed]",
      "text/plain": [
       "<Figure size 864x288 with 1 Axes>"
      ]
     },
     "metadata": {
      "needs_background": "light"
     },
     "output_type": "display_data"
    },
    {
     "data": {
      "image/png": "[encoded data removed]",
      "text/plain": [
       "<Figure size 864x288 with 1 Axes>"
      ]
     },
     "metadata": {
      "needs_background": "light"
     },
     "output_type": "display_data"
    },
    {
     "data": {
      "image/png": "[encoded data removed]",
      "text/plain": [
       "<Figure size 864x288 with 1 Axes>"
      ]
     },
     "metadata": {
      "needs_background": "light"
     },
     "output_type": "display_data"
    },
    {
     "data": {
      "image/png": "[encoded data removed]",
      "text/plain": [
       "<Figure size 864x288 with 1 Axes>"
      ]
     },
     "metadata": {
      "needs_background": "light"
     },
     "output_type": "display_data"
    },
    {
     "data": {
      "image/png": "[encoded data removed]",
      "text/plain": [
       "<Figure size 864x288 with 1 Axes>"
      ]
     },
     "metadata": {
      "needs_background": "light"
     },
     "output_type": "display_data"
    },
    {
     "data": {
      "image/png": "[encoded data removed]",
      "text/plain": [
       "<Figure size 864x288 with 1 Axes>"
      ]
     },
     "metadata": {
      "needs_background": "light"
     },
     "output_type": "display_data"
    }
   ],
   "source": [
    "# box plot for numerical Variables\n",
    "for var in [\"x_%d\" % i for i in range(len(rows[0])-3)]:\n",
    "    f, (ax) = plt.subplots(1, 1, figsize=(12, 4))\n",
    "    f.suptitle(var, fontsize=14)\n",
    "\n",
    "    sns.boxplot(y=var, data=data)\n",
    "    ax.set_ylabel(var,size = 12,alpha=0.8)\n",
    "    "
   ]
  },
  {
   "cell_type": "markdown",
   "metadata": {},
   "source": [
    "We could see from the above box plots that most of the variables have significant outliers as indicated by elongated tails of the box plot. Thus we need a model which is robust to outliers"
   ]
  },
  {
   "cell_type": "code",
   "execution_count": 18,
   "metadata": {},
   "outputs": [],
   "source": [
    "X = data[[\"x_%d\" % i for i in range(len(rows[0])-3)]]\n",
    "Y = data['completion_rate']\n",
    "X_train, X_test, Y_train, Y_test = train_test_split(X, Y, test_size=0.7, random_state=100)"
   ]
  },
  {
   "cell_type": "code",
   "execution_count": 19,
   "metadata": {
    "scrolled": false
   },
   "outputs": [
    {
     "name": "stdout",
     "output_type": "stream",
     "text": [
      "Fitting 5 folds for each of 24 candidates, totalling 120 fits\n"
     ]
    },
    {
     "name": "stderr",
     "output_type": "stream",
     "text": [
      "[Parallel(n_jobs=-1)]: Using backend LokyBackend with 40 concurrent workers.\n",
      "[Parallel(n_jobs=-1)]: Done 120 out of 120 | elapsed:  8.8min finished\n",
      "[Parallel(n_jobs=1)]: Using backend SequentialBackend with 1 concurrent workers.\n",
      "[Parallel(n_jobs=1)]: Done 100 out of 100 | elapsed:   39.6s finished\n"
     ]
    },
    {
     "data": {
      "text/plain": [
       "GridSearchCV(cv=5, error_score='raise-deprecating',\n",
       "       estimator=Pipeline(memory=None,\n",
       "     steps=[('rf', RandomForestRegressor(bootstrap=True, criterion='mse', max_depth=None,\n",
       "           max_features='auto', max_leaf_nodes=None,\n",
       "           min_impurity_decrease=0.0, min_impurity_split=None,\n",
       "           min_samples_leaf=1, min_samples_split=2,\n",
       "           min_weight_fraction_leaf=0.0, n_estimators='warn', n_jobs=None,\n",
       "           oob_score=False, random_state=100, verbose=1, warm_start=True))]),\n",
       "       fit_params=None, iid='warn', n_jobs=-1,\n",
       "       param_grid={'rf__n_estimators': (100, 200), 'rf__max_depth': (2, 4, 6, 8), 'rf__max_features': (0.5, 0.6, 0.7)},\n",
       "       pre_dispatch='2*n_jobs', refit=True, return_train_score='warn',\n",
       "       scoring='neg_mean_squared_error', verbose=True)"
      ]
     },
     "execution_count": 19,
     "metadata": {},
     "output_type": "execute_result"
    }
   ],
   "source": [
    "rf_pipeline = Pipeline([('rf',RandomForestRegressor(random_state=100, verbose=1, warm_start = True))])\n",
    "parameters_rf = {'rf__n_estimators':(100,200),'rf__max_depth': (2, 4, 6, 8), 'rf__max_features': (0.5, 0.6, 0.7)}\n",
    "opt_rf = GridSearchCV(rf_pipeline, parameters_rf, scoring='neg_mean_squared_error', n_jobs=-1, cv=5, verbose=True)\n",
    "opt_rf.fit(X_train, Y_train)"
   ]
  },
  {
   "cell_type": "code",
   "execution_count": 20,
   "metadata": {},
   "outputs": [
    {
     "name": "stderr",
     "output_type": "stream",
     "text": [
      "/home/dgxuser_layersvanguard/anaconda/lib/python3.7/site-packages/sklearn/utils/deprecation.py:125: FutureWarning: You are accessing a training score ('split0_train_score'), which will not be available by default any more in 0.21. If you need training scores, please set return_train_score=True\n",
      "  warnings.warn(*warn_args, **warn_kwargs)\n",
      "/home/dgxuser_layersvanguard/anaconda/lib/python3.7/site-packages/sklearn/utils/deprecation.py:125: FutureWarning: You are accessing a training score ('split1_train_score'), which will not be available by default any more in 0.21. If you need training scores, please set return_train_score=True\n",
      "  warnings.warn(*warn_args, **warn_kwargs)\n",
      "/home/dgxuser_layersvanguard/anaconda/lib/python3.7/site-packages/sklearn/utils/deprecation.py:125: FutureWarning: You are accessing a training score ('split2_train_score'), which will not be available by default any more in 0.21. If you need training scores, please set return_train_score=True\n",
      "  warnings.warn(*warn_args, **warn_kwargs)\n",
      "/home/dgxuser_layersvanguard/anaconda/lib/python3.7/site-packages/sklearn/utils/deprecation.py:125: FutureWarning: You are accessing a training score ('split3_train_score'), which will not be available by default any more in 0.21. If you need training scores, please set return_train_score=True\n",
      "  warnings.warn(*warn_args, **warn_kwargs)\n",
      "/home/dgxuser_layersvanguard/anaconda/lib/python3.7/site-packages/sklearn/utils/deprecation.py:125: FutureWarning: You are accessing a training score ('split4_train_score'), which will not be available by default any more in 0.21. If you need training scores, please set return_train_score=True\n",
      "  warnings.warn(*warn_args, **warn_kwargs)\n",
      "/home/dgxuser_layersvanguard/anaconda/lib/python3.7/site-packages/sklearn/utils/deprecation.py:125: FutureWarning: You are accessing a training score ('mean_train_score'), which will not be available by default any more in 0.21. If you need training scores, please set return_train_score=True\n",
      "  warnings.warn(*warn_args, **warn_kwargs)\n",
      "/home/dgxuser_layersvanguard/anaconda/lib/python3.7/site-packages/sklearn/utils/deprecation.py:125: FutureWarning: You are accessing a training score ('std_train_score'), which will not be available by default any more in 0.21. If you need training scores, please set return_train_score=True\n",
      "  warnings.warn(*warn_args, **warn_kwargs)\n"
     ]
    },
    {
     "data": {
      "text/html": [
       "<div>\n",
       "<style scoped>\n",
       "    .dataframe tbody tr th:only-of-type {\n",
       "        vertical-align: middle;\n",
       "    }\n",
       "\n",
       "    .dataframe tbody tr th {\n",
       "        vertical-align: top;\n",
       "    }\n",
       "\n",
       "    .dataframe thead th {\n",
       "        text-align: right;\n",
       "    }\n",
       "</style>\n",
       "<table border=\"1\" class=\"dataframe\">\n",
       "  <thead>\n",
       "    <tr style=\"text-align: right;\">\n",
       "      <th></th>\n",
       "      <th>mean_fit_time</th>\n",
       "      <th>std_fit_time</th>\n",
       "      <th>mean_score_time</th>\n",
       "      <th>std_score_time</th>\n",
       "      <th>param_rf__max_depth</th>\n",
       "      <th>param_rf__max_features</th>\n",
       "      <th>param_rf__n_estimators</th>\n",
       "      <th>params</th>\n",
       "      <th>split0_test_score</th>\n",
       "      <th>split1_test_score</th>\n",
       "      <th>...</th>\n",
       "      <th>mean_test_score</th>\n",
       "      <th>std_test_score</th>\n",
       "      <th>rank_test_score</th>\n",
       "      <th>split0_train_score</th>\n",
       "      <th>split1_train_score</th>\n",
       "      <th>split2_train_score</th>\n",
       "      <th>split3_train_score</th>\n",
       "      <th>split4_train_score</th>\n",
       "      <th>mean_train_score</th>\n",
       "      <th>std_train_score</th>\n",
       "    </tr>\n",
       "  </thead>\n",
       "  <tbody>\n",
       "    <tr>\n",
       "      <th>0</th>\n",
       "      <td>39.027287</td>\n",
       "      <td>2.922752</td>\n",
       "      <td>0.552141</td>\n",
       "      <td>0.047924</td>\n",
       "      <td>2</td>\n",
       "      <td>0.5</td>\n",
       "      <td>100</td>\n",
       "      <td>{'rf__max_depth': 2, 'rf__max_features': 0.5, ...</td>\n",
       "      <td>-0.046927</td>\n",
       "      <td>-0.046599</td>\n",
       "      <td>...</td>\n",
       "      <td>-0.046864</td>\n",
       "      <td>0.000162</td>\n",
       "      <td>19</td>\n",
       "      <td>-0.046840</td>\n",
       "      <td>-0.046922</td>\n",
       "      <td>-0.046878</td>\n",
       "      <td>-0.046832</td>\n",
       "      <td>-0.046825</td>\n",
       "      <td>-0.046859</td>\n",
       "      <td>0.000036</td>\n",
       "    </tr>\n",
       "    <tr>\n",
       "      <th>1</th>\n",
       "      <td>81.906298</td>\n",
       "      <td>0.837513</td>\n",
       "      <td>0.926790</td>\n",
       "      <td>0.055982</td>\n",
       "      <td>2</td>\n",
       "      <td>0.5</td>\n",
       "      <td>200</td>\n",
       "      <td>{'rf__max_depth': 2, 'rf__max_features': 0.5, ...</td>\n",
       "      <td>-0.046934</td>\n",
       "      <td>-0.046606</td>\n",
       "      <td>...</td>\n",
       "      <td>-0.046872</td>\n",
       "      <td>0.000162</td>\n",
       "      <td>20</td>\n",
       "      <td>-0.046849</td>\n",
       "      <td>-0.046929</td>\n",
       "      <td>-0.046887</td>\n",
       "      <td>-0.046839</td>\n",
       "      <td>-0.046831</td>\n",
       "      <td>-0.046867</td>\n",
       "      <td>0.000037</td>\n",
       "    </tr>\n",
       "    <tr>\n",
       "      <th>2</th>\n",
       "      <td>48.051374</td>\n",
       "      <td>0.996842</td>\n",
       "      <td>0.513883</td>\n",
       "      <td>0.047762</td>\n",
       "      <td>2</td>\n",
       "      <td>0.6</td>\n",
       "      <td>100</td>\n",
       "      <td>{'rf__max_depth': 2, 'rf__max_features': 0.6, ...</td>\n",
       "      <td>-0.046965</td>\n",
       "      <td>-0.046631</td>\n",
       "      <td>...</td>\n",
       "      <td>-0.046892</td>\n",
       "      <td>0.000160</td>\n",
       "      <td>21</td>\n",
       "      <td>-0.046876</td>\n",
       "      <td>-0.046946</td>\n",
       "      <td>-0.046907</td>\n",
       "      <td>-0.046856</td>\n",
       "      <td>-0.046841</td>\n",
       "      <td>-0.046885</td>\n",
       "      <td>0.000038</td>\n",
       "    </tr>\n",
       "    <tr>\n",
       "      <th>3</th>\n",
       "      <td>95.546599</td>\n",
       "      <td>0.875008</td>\n",
       "      <td>1.000396</td>\n",
       "      <td>0.102665</td>\n",
       "      <td>2</td>\n",
       "      <td>0.6</td>\n",
       "      <td>200</td>\n",
       "      <td>{'rf__max_depth': 2, 'rf__max_features': 0.6, ...</td>\n",
       "      <td>-0.046981</td>\n",
       "      <td>-0.046646</td>\n",
       "      <td>...</td>\n",
       "      <td>-0.046906</td>\n",
       "      <td>0.000160</td>\n",
       "      <td>23</td>\n",
       "      <td>-0.046892</td>\n",
       "      <td>-0.046960</td>\n",
       "      <td>-0.046920</td>\n",
       "      <td>-0.046871</td>\n",
       "      <td>-0.046860</td>\n",
       "      <td>-0.046901</td>\n",
       "      <td>0.000036</td>\n",
       "    </tr>\n",
       "    <tr>\n",
       "      <th>4</th>\n",
       "      <td>53.628293</td>\n",
       "      <td>1.254531</td>\n",
       "      <td>0.496294</td>\n",
       "      <td>0.044076</td>\n",
       "      <td>2</td>\n",
       "      <td>0.7</td>\n",
       "      <td>100</td>\n",
       "      <td>{'rf__max_depth': 2, 'rf__max_features': 0.7, ...</td>\n",
       "      <td>-0.046950</td>\n",
       "      <td>-0.046651</td>\n",
       "      <td>...</td>\n",
       "      <td>-0.046901</td>\n",
       "      <td>0.000155</td>\n",
       "      <td>22</td>\n",
       "      <td>-0.046876</td>\n",
       "      <td>-0.046959</td>\n",
       "      <td>-0.046921</td>\n",
       "      <td>-0.046868</td>\n",
       "      <td>-0.046858</td>\n",
       "      <td>-0.046896</td>\n",
       "      <td>0.000038</td>\n",
       "    </tr>\n",
       "    <tr>\n",
       "      <th>5</th>\n",
       "      <td>106.270981</td>\n",
       "      <td>1.583575</td>\n",
       "      <td>0.991929</td>\n",
       "      <td>0.098012</td>\n",
       "      <td>2</td>\n",
       "      <td>0.7</td>\n",
       "      <td>200</td>\n",
       "      <td>{'rf__max_depth': 2, 'rf__max_features': 0.7, ...</td>\n",
       "      <td>-0.046968</td>\n",
       "      <td>-0.046667</td>\n",
       "      <td>...</td>\n",
       "      <td>-0.046918</td>\n",
       "      <td>0.000154</td>\n",
       "      <td>24</td>\n",
       "      <td>-0.046893</td>\n",
       "      <td>-0.046976</td>\n",
       "      <td>-0.046938</td>\n",
       "      <td>-0.046884</td>\n",
       "      <td>-0.046872</td>\n",
       "      <td>-0.046912</td>\n",
       "      <td>0.000039</td>\n",
       "    </tr>\n",
       "    <tr>\n",
       "      <th>6</th>\n",
       "      <td>79.119037</td>\n",
       "      <td>1.238881</td>\n",
       "      <td>0.815692</td>\n",
       "      <td>0.067161</td>\n",
       "      <td>4</td>\n",
       "      <td>0.5</td>\n",
       "      <td>100</td>\n",
       "      <td>{'rf__max_depth': 4, 'rf__max_features': 0.5, ...</td>\n",
       "      <td>-0.045864</td>\n",
       "      <td>-0.045533</td>\n",
       "      <td>...</td>\n",
       "      <td>-0.045766</td>\n",
       "      <td>0.000144</td>\n",
       "      <td>14</td>\n",
       "      <td>-0.045710</td>\n",
       "      <td>-0.045791</td>\n",
       "      <td>-0.045758</td>\n",
       "      <td>-0.045728</td>\n",
       "      <td>-0.045724</td>\n",
       "      <td>-0.045742</td>\n",
       "      <td>0.000029</td>\n",
       "    </tr>\n",
       "    <tr>\n",
       "      <th>7</th>\n",
       "      <td>156.231001</td>\n",
       "      <td>1.187281</td>\n",
       "      <td>1.625908</td>\n",
       "      <td>0.206891</td>\n",
       "      <td>4</td>\n",
       "      <td>0.5</td>\n",
       "      <td>200</td>\n",
       "      <td>{'rf__max_depth': 4, 'rf__max_features': 0.5, ...</td>\n",
       "      <td>-0.045858</td>\n",
       "      <td>-0.045519</td>\n",
       "      <td>...</td>\n",
       "      <td>-0.045760</td>\n",
       "      <td>0.000146</td>\n",
       "      <td>13</td>\n",
       "      <td>-0.045705</td>\n",
       "      <td>-0.045779</td>\n",
       "      <td>-0.045757</td>\n",
       "      <td>-0.045720</td>\n",
       "      <td>-0.045718</td>\n",
       "      <td>-0.045736</td>\n",
       "      <td>0.000028</td>\n",
       "    </tr>\n",
       "    <tr>\n",
       "      <th>8</th>\n",
       "      <td>92.066267</td>\n",
       "      <td>2.086134</td>\n",
       "      <td>0.684118</td>\n",
       "      <td>0.068587</td>\n",
       "      <td>4</td>\n",
       "      <td>0.6</td>\n",
       "      <td>100</td>\n",
       "      <td>{'rf__max_depth': 4, 'rf__max_features': 0.6, ...</td>\n",
       "      <td>-0.045892</td>\n",
       "      <td>-0.045564</td>\n",
       "      <td>...</td>\n",
       "      <td>-0.045796</td>\n",
       "      <td>0.000141</td>\n",
       "      <td>16</td>\n",
       "      <td>-0.045735</td>\n",
       "      <td>-0.045823</td>\n",
       "      <td>-0.045790</td>\n",
       "      <td>-0.045757</td>\n",
       "      <td>-0.045753</td>\n",
       "      <td>-0.045772</td>\n",
       "      <td>0.000031</td>\n",
       "    </tr>\n",
       "    <tr>\n",
       "      <th>9</th>\n",
       "      <td>182.239369</td>\n",
       "      <td>1.625960</td>\n",
       "      <td>1.478909</td>\n",
       "      <td>0.188581</td>\n",
       "      <td>4</td>\n",
       "      <td>0.6</td>\n",
       "      <td>200</td>\n",
       "      <td>{'rf__max_depth': 4, 'rf__max_features': 0.6, ...</td>\n",
       "      <td>-0.045887</td>\n",
       "      <td>-0.045553</td>\n",
       "      <td>...</td>\n",
       "      <td>-0.045788</td>\n",
       "      <td>0.000142</td>\n",
       "      <td>15</td>\n",
       "      <td>-0.045731</td>\n",
       "      <td>-0.045810</td>\n",
       "      <td>-0.045782</td>\n",
       "      <td>-0.045746</td>\n",
       "      <td>-0.045747</td>\n",
       "      <td>-0.045763</td>\n",
       "      <td>0.000029</td>\n",
       "    </tr>\n",
       "    <tr>\n",
       "      <th>10</th>\n",
       "      <td>102.218440</td>\n",
       "      <td>1.053056</td>\n",
       "      <td>0.835598</td>\n",
       "      <td>0.221519</td>\n",
       "      <td>4</td>\n",
       "      <td>0.7</td>\n",
       "      <td>100</td>\n",
       "      <td>{'rf__max_depth': 4, 'rf__max_features': 0.7, ...</td>\n",
       "      <td>-0.045895</td>\n",
       "      <td>-0.045576</td>\n",
       "      <td>...</td>\n",
       "      <td>-0.045806</td>\n",
       "      <td>0.000140</td>\n",
       "      <td>18</td>\n",
       "      <td>-0.045740</td>\n",
       "      <td>-0.045829</td>\n",
       "      <td>-0.045796</td>\n",
       "      <td>-0.045771</td>\n",
       "      <td>-0.045775</td>\n",
       "      <td>-0.045782</td>\n",
       "      <td>0.000030</td>\n",
       "    </tr>\n",
       "    <tr>\n",
       "      <th>11</th>\n",
       "      <td>203.843591</td>\n",
       "      <td>3.472452</td>\n",
       "      <td>1.489539</td>\n",
       "      <td>0.308582</td>\n",
       "      <td>4</td>\n",
       "      <td>0.7</td>\n",
       "      <td>200</td>\n",
       "      <td>{'rf__max_depth': 4, 'rf__max_features': 0.7, ...</td>\n",
       "      <td>-0.045902</td>\n",
       "      <td>-0.045568</td>\n",
       "      <td>...</td>\n",
       "      <td>-0.045804</td>\n",
       "      <td>0.000142</td>\n",
       "      <td>17</td>\n",
       "      <td>-0.045744</td>\n",
       "      <td>-0.045819</td>\n",
       "      <td>-0.045793</td>\n",
       "      <td>-0.045768</td>\n",
       "      <td>-0.045763</td>\n",
       "      <td>-0.045778</td>\n",
       "      <td>0.000026</td>\n",
       "    </tr>\n",
       "    <tr>\n",
       "      <th>12</th>\n",
       "      <td>110.364933</td>\n",
       "      <td>1.850657</td>\n",
       "      <td>1.048077</td>\n",
       "      <td>0.037480</td>\n",
       "      <td>6</td>\n",
       "      <td>0.5</td>\n",
       "      <td>100</td>\n",
       "      <td>{'rf__max_depth': 6, 'rf__max_features': 0.5, ...</td>\n",
       "      <td>-0.045174</td>\n",
       "      <td>-0.044842</td>\n",
       "      <td>...</td>\n",
       "      <td>-0.045051</td>\n",
       "      <td>0.000124</td>\n",
       "      <td>7</td>\n",
       "      <td>-0.044914</td>\n",
       "      <td>-0.044996</td>\n",
       "      <td>-0.044976</td>\n",
       "      <td>-0.044948</td>\n",
       "      <td>-0.044938</td>\n",
       "      <td>-0.044954</td>\n",
       "      <td>0.000029</td>\n",
       "    </tr>\n",
       "    <tr>\n",
       "      <th>13</th>\n",
       "      <td>221.420140</td>\n",
       "      <td>2.075095</td>\n",
       "      <td>2.235134</td>\n",
       "      <td>0.150850</td>\n",
       "      <td>6</td>\n",
       "      <td>0.5</td>\n",
       "      <td>200</td>\n",
       "      <td>{'rf__max_depth': 6, 'rf__max_features': 0.5, ...</td>\n",
       "      <td>-0.045181</td>\n",
       "      <td>-0.044853</td>\n",
       "      <td>...</td>\n",
       "      <td>-0.045058</td>\n",
       "      <td>0.000122</td>\n",
       "      <td>8</td>\n",
       "      <td>-0.044922</td>\n",
       "      <td>-0.045008</td>\n",
       "      <td>-0.044986</td>\n",
       "      <td>-0.044954</td>\n",
       "      <td>-0.044943</td>\n",
       "      <td>-0.044962</td>\n",
       "      <td>0.000031</td>\n",
       "    </tr>\n",
       "    <tr>\n",
       "      <th>14</th>\n",
       "      <td>130.086571</td>\n",
       "      <td>1.868802</td>\n",
       "      <td>1.170922</td>\n",
       "      <td>0.167634</td>\n",
       "      <td>6</td>\n",
       "      <td>0.6</td>\n",
       "      <td>100</td>\n",
       "      <td>{'rf__max_depth': 6, 'rf__max_features': 0.6, ...</td>\n",
       "      <td>-0.045218</td>\n",
       "      <td>-0.044882</td>\n",
       "      <td>...</td>\n",
       "      <td>-0.045081</td>\n",
       "      <td>0.000118</td>\n",
       "      <td>10</td>\n",
       "      <td>-0.044951</td>\n",
       "      <td>-0.045027</td>\n",
       "      <td>-0.045008</td>\n",
       "      <td>-0.044967</td>\n",
       "      <td>-0.044953</td>\n",
       "      <td>-0.044981</td>\n",
       "      <td>0.000031</td>\n",
       "    </tr>\n",
       "    <tr>\n",
       "      <th>15</th>\n",
       "      <td>257.993729</td>\n",
       "      <td>1.904467</td>\n",
       "      <td>1.912008</td>\n",
       "      <td>0.230280</td>\n",
       "      <td>6</td>\n",
       "      <td>0.6</td>\n",
       "      <td>200</td>\n",
       "      <td>{'rf__max_depth': 6, 'rf__max_features': 0.6, ...</td>\n",
       "      <td>-0.045210</td>\n",
       "      <td>-0.044883</td>\n",
       "      <td>...</td>\n",
       "      <td>-0.045078</td>\n",
       "      <td>0.000117</td>\n",
       "      <td>9</td>\n",
       "      <td>-0.044945</td>\n",
       "      <td>-0.045028</td>\n",
       "      <td>-0.045002</td>\n",
       "      <td>-0.044961</td>\n",
       "      <td>-0.044952</td>\n",
       "      <td>-0.044978</td>\n",
       "      <td>0.000032</td>\n",
       "    </tr>\n",
       "    <tr>\n",
       "      <th>16</th>\n",
       "      <td>149.473872</td>\n",
       "      <td>1.579670</td>\n",
       "      <td>1.154443</td>\n",
       "      <td>0.187631</td>\n",
       "      <td>6</td>\n",
       "      <td>0.7</td>\n",
       "      <td>100</td>\n",
       "      <td>{'rf__max_depth': 6, 'rf__max_features': 0.7, ...</td>\n",
       "      <td>-0.045221</td>\n",
       "      <td>-0.044898</td>\n",
       "      <td>...</td>\n",
       "      <td>-0.045097</td>\n",
       "      <td>0.000117</td>\n",
       "      <td>12</td>\n",
       "      <td>-0.044954</td>\n",
       "      <td>-0.045037</td>\n",
       "      <td>-0.045008</td>\n",
       "      <td>-0.044979</td>\n",
       "      <td>-0.044982</td>\n",
       "      <td>-0.044992</td>\n",
       "      <td>0.000028</td>\n",
       "    </tr>\n",
       "    <tr>\n",
       "      <th>17</th>\n",
       "      <td>269.967700</td>\n",
       "      <td>2.957873</td>\n",
       "      <td>0.993142</td>\n",
       "      <td>0.243127</td>\n",
       "      <td>6</td>\n",
       "      <td>0.7</td>\n",
       "      <td>200</td>\n",
       "      <td>{'rf__max_depth': 6, 'rf__max_features': 0.7, ...</td>\n",
       "      <td>-0.045221</td>\n",
       "      <td>-0.044890</td>\n",
       "      <td>...</td>\n",
       "      <td>-0.045092</td>\n",
       "      <td>0.000120</td>\n",
       "      <td>11</td>\n",
       "      <td>-0.044951</td>\n",
       "      <td>-0.045030</td>\n",
       "      <td>-0.045000</td>\n",
       "      <td>-0.044972</td>\n",
       "      <td>-0.044976</td>\n",
       "      <td>-0.044986</td>\n",
       "      <td>0.000027</td>\n",
       "    </tr>\n",
       "    <tr>\n",
       "      <th>18</th>\n",
       "      <td>143.750600</td>\n",
       "      <td>2.141757</td>\n",
       "      <td>1.387925</td>\n",
       "      <td>0.085289</td>\n",
       "      <td>8</td>\n",
       "      <td>0.5</td>\n",
       "      <td>100</td>\n",
       "      <td>{'rf__max_depth': 8, 'rf__max_features': 0.5, ...</td>\n",
       "      <td>-0.044707</td>\n",
       "      <td>-0.044373</td>\n",
       "      <td>...</td>\n",
       "      <td>-0.044571</td>\n",
       "      <td>0.000120</td>\n",
       "      <td>1</td>\n",
       "      <td>-0.044215</td>\n",
       "      <td>-0.044316</td>\n",
       "      <td>-0.044285</td>\n",
       "      <td>-0.044254</td>\n",
       "      <td>-0.044255</td>\n",
       "      <td>-0.044265</td>\n",
       "      <td>0.000034</td>\n",
       "    </tr>\n",
       "    <tr>\n",
       "      <th>19</th>\n",
       "      <td>224.681336</td>\n",
       "      <td>3.325944</td>\n",
       "      <td>1.344318</td>\n",
       "      <td>0.069664</td>\n",
       "      <td>8</td>\n",
       "      <td>0.5</td>\n",
       "      <td>200</td>\n",
       "      <td>{'rf__max_depth': 8, 'rf__max_features': 0.5, ...</td>\n",
       "      <td>-0.044715</td>\n",
       "      <td>-0.044375</td>\n",
       "      <td>...</td>\n",
       "      <td>-0.044576</td>\n",
       "      <td>0.000122</td>\n",
       "      <td>2</td>\n",
       "      <td>-0.044223</td>\n",
       "      <td>-0.044318</td>\n",
       "      <td>-0.044288</td>\n",
       "      <td>-0.044260</td>\n",
       "      <td>-0.044257</td>\n",
       "      <td>-0.044269</td>\n",
       "      <td>0.000032</td>\n",
       "    </tr>\n",
       "    <tr>\n",
       "      <th>20</th>\n",
       "      <td>161.190286</td>\n",
       "      <td>1.049627</td>\n",
       "      <td>1.173765</td>\n",
       "      <td>0.138101</td>\n",
       "      <td>8</td>\n",
       "      <td>0.6</td>\n",
       "      <td>100</td>\n",
       "      <td>{'rf__max_depth': 8, 'rf__max_features': 0.6, ...</td>\n",
       "      <td>-0.044731</td>\n",
       "      <td>-0.044383</td>\n",
       "      <td>...</td>\n",
       "      <td>-0.044583</td>\n",
       "      <td>0.000124</td>\n",
       "      <td>4</td>\n",
       "      <td>-0.044212</td>\n",
       "      <td>-0.044315</td>\n",
       "      <td>-0.044284</td>\n",
       "      <td>-0.044253</td>\n",
       "      <td>-0.044255</td>\n",
       "      <td>-0.044264</td>\n",
       "      <td>0.000034</td>\n",
       "    </tr>\n",
       "    <tr>\n",
       "      <th>21</th>\n",
       "      <td>201.639531</td>\n",
       "      <td>2.907840</td>\n",
       "      <td>1.211674</td>\n",
       "      <td>0.020233</td>\n",
       "      <td>8</td>\n",
       "      <td>0.6</td>\n",
       "      <td>200</td>\n",
       "      <td>{'rf__max_depth': 8, 'rf__max_features': 0.6, ...</td>\n",
       "      <td>-0.044727</td>\n",
       "      <td>-0.044378</td>\n",
       "      <td>...</td>\n",
       "      <td>-0.044579</td>\n",
       "      <td>0.000123</td>\n",
       "      <td>3</td>\n",
       "      <td>-0.044210</td>\n",
       "      <td>-0.044307</td>\n",
       "      <td>-0.044275</td>\n",
       "      <td>-0.044249</td>\n",
       "      <td>-0.044247</td>\n",
       "      <td>-0.044258</td>\n",
       "      <td>0.000032</td>\n",
       "    </tr>\n",
       "    <tr>\n",
       "      <th>22</th>\n",
       "      <td>138.586698</td>\n",
       "      <td>1.979875</td>\n",
       "      <td>0.728472</td>\n",
       "      <td>0.079560</td>\n",
       "      <td>8</td>\n",
       "      <td>0.7</td>\n",
       "      <td>100</td>\n",
       "      <td>{'rf__max_depth': 8, 'rf__max_features': 0.7, ...</td>\n",
       "      <td>-0.044725</td>\n",
       "      <td>-0.044383</td>\n",
       "      <td>...</td>\n",
       "      <td>-0.044589</td>\n",
       "      <td>0.000121</td>\n",
       "      <td>6</td>\n",
       "      <td>-0.044205</td>\n",
       "      <td>-0.044304</td>\n",
       "      <td>-0.044279</td>\n",
       "      <td>-0.044242</td>\n",
       "      <td>-0.044254</td>\n",
       "      <td>-0.044257</td>\n",
       "      <td>0.000034</td>\n",
       "    </tr>\n",
       "    <tr>\n",
       "      <th>23</th>\n",
       "      <td>185.004121</td>\n",
       "      <td>2.505306</td>\n",
       "      <td>1.049409</td>\n",
       "      <td>0.042798</td>\n",
       "      <td>8</td>\n",
       "      <td>0.7</td>\n",
       "      <td>200</td>\n",
       "      <td>{'rf__max_depth': 8, 'rf__max_features': 0.7, ...</td>\n",
       "      <td>-0.044728</td>\n",
       "      <td>-0.044383</td>\n",
       "      <td>...</td>\n",
       "      <td>-0.044587</td>\n",
       "      <td>0.000122</td>\n",
       "      <td>5</td>\n",
       "      <td>-0.044206</td>\n",
       "      <td>-0.044303</td>\n",
       "      <td>-0.044271</td>\n",
       "      <td>-0.044245</td>\n",
       "      <td>-0.044247</td>\n",
       "      <td>-0.044254</td>\n",
       "      <td>0.000032</td>\n",
       "    </tr>\n",
       "  </tbody>\n",
       "</table>\n",
       "<p>24 rows × 23 columns</p>\n",
       "</div>"
      ],
      "text/plain": [
       "    mean_fit_time  std_fit_time  mean_score_time  std_score_time  \\\n",
       "0       39.027287      2.922752         0.552141        0.047924   \n",
       "1       81.906298      0.837513         0.926790        0.055982   \n",
       "2       48.051374      0.996842         0.513883        0.047762   \n",
       "3       95.546599      0.875008         1.000396        0.102665   \n",
       "4       53.628293      1.254531         0.496294        0.044076   \n",
       "5      106.270981      1.583575         0.991929        0.098012   \n",
       "6       79.119037      1.238881         0.815692        0.067161   \n",
       "7      156.231001      1.187281         1.625908        0.206891   \n",
       "8       92.066267      2.086134         0.684118        0.068587   \n",
       "9      182.239369      1.625960         1.478909        0.188581   \n",
       "10     102.218440      1.053056         0.835598        0.221519   \n",
       "11     203.843591      3.472452         1.489539        0.308582   \n",
       "12     110.364933      1.850657         1.048077        0.037480   \n",
       "13     221.420140      2.075095         2.235134        0.150850   \n",
       "14     130.086571      1.868802         1.170922        0.167634   \n",
       "15     257.993729      1.904467         1.912008        0.230280   \n",
       "16     149.473872      1.579670         1.154443        0.187631   \n",
       "17     269.967700      2.957873         0.993142        0.243127   \n",
       "18     143.750600      2.141757         1.387925        0.085289   \n",
       "19     224.681336      3.325944         1.344318        0.069664   \n",
       "20     161.190286      1.049627         1.173765        0.138101   \n",
       "21     201.639531      2.907840         1.211674        0.020233   \n",
       "22     138.586698      1.979875         0.728472        0.079560   \n",
       "23     185.004121      2.505306         1.049409        0.042798   \n",
       "\n",
       "   param_rf__max_depth param_rf__max_features param_rf__n_estimators  \\\n",
       "0                    2                    0.5                    100   \n",
       "1                    2                    0.5                    200   \n",
       "2                    2                    0.6                    100   \n",
       "3                    2                    0.6                    200   \n",
       "4                    2                    0.7                    100   \n",
       "5                    2                    0.7                    200   \n",
       "6                    4                    0.5                    100   \n",
       "7                    4                    0.5                    200   \n",
       "8                    4                    0.6                    100   \n",
       "9                    4                    0.6                    200   \n",
       "10                   4                    0.7                    100   \n",
       "11                   4                    0.7                    200   \n",
       "12                   6                    0.5                    100   \n",
       "13                   6                    0.5                    200   \n",
       "14                   6                    0.6                    100   \n",
       "15                   6                    0.6                    200   \n",
       "16                   6                    0.7                    100   \n",
       "17                   6                    0.7                    200   \n",
       "18                   8                    0.5                    100   \n",
       "19                   8                    0.5                    200   \n",
       "20                   8                    0.6                    100   \n",
       "21                   8                    0.6                    200   \n",
       "22                   8                    0.7                    100   \n",
       "23                   8                    0.7                    200   \n",
       "\n",
       "                                               params  split0_test_score  \\\n",
       "0   {'rf__max_depth': 2, 'rf__max_features': 0.5, ...          -0.046927   \n",
       "1   {'rf__max_depth': 2, 'rf__max_features': 0.5, ...          -0.046934   \n",
       "2   {'rf__max_depth': 2, 'rf__max_features': 0.6, ...          -0.046965   \n",
       "3   {'rf__max_depth': 2, 'rf__max_features': 0.6, ...          -0.046981   \n",
       "4   {'rf__max_depth': 2, 'rf__max_features': 0.7, ...          -0.046950   \n",
       "5   {'rf__max_depth': 2, 'rf__max_features': 0.7, ...          -0.046968   \n",
       "6   {'rf__max_depth': 4, 'rf__max_features': 0.5, ...          -0.045864   \n",
       "7   {'rf__max_depth': 4, 'rf__max_features': 0.5, ...          -0.045858   \n",
       "8   {'rf__max_depth': 4, 'rf__max_features': 0.6, ...          -0.045892   \n",
       "9   {'rf__max_depth': 4, 'rf__max_features': 0.6, ...          -0.045887   \n",
       "10  {'rf__max_depth': 4, 'rf__max_features': 0.7, ...          -0.045895   \n",
       "11  {'rf__max_depth': 4, 'rf__max_features': 0.7, ...          -0.045902   \n",
       "12  {'rf__max_depth': 6, 'rf__max_features': 0.5, ...          -0.045174   \n",
       "13  {'rf__max_depth': 6, 'rf__max_features': 0.5, ...          -0.045181   \n",
       "14  {'rf__max_depth': 6, 'rf__max_features': 0.6, ...          -0.045218   \n",
       "15  {'rf__max_depth': 6, 'rf__max_features': 0.6, ...          -0.045210   \n",
       "16  {'rf__max_depth': 6, 'rf__max_features': 0.7, ...          -0.045221   \n",
       "17  {'rf__max_depth': 6, 'rf__max_features': 0.7, ...          -0.045221   \n",
       "18  {'rf__max_depth': 8, 'rf__max_features': 0.5, ...          -0.044707   \n",
       "19  {'rf__max_depth': 8, 'rf__max_features': 0.5, ...          -0.044715   \n",
       "20  {'rf__max_depth': 8, 'rf__max_features': 0.6, ...          -0.044731   \n",
       "21  {'rf__max_depth': 8, 'rf__max_features': 0.6, ...          -0.044727   \n",
       "22  {'rf__max_depth': 8, 'rf__max_features': 0.7, ...          -0.044725   \n",
       "23  {'rf__max_depth': 8, 'rf__max_features': 0.7, ...          -0.044728   \n",
       "\n",
       "    split1_test_score  ...  mean_test_score  std_test_score  rank_test_score  \\\n",
       "0           -0.046599  ...        -0.046864        0.000162               19   \n",
       "1           -0.046606  ...        -0.046872        0.000162               20   \n",
       "2           -0.046631  ...        -0.046892        0.000160               21   \n",
       "3           -0.046646  ...        -0.046906        0.000160               23   \n",
       "4           -0.046651  ...        -0.046901        0.000155               22   \n",
       "5           -0.046667  ...        -0.046918        0.000154               24   \n",
       "6           -0.045533  ...        -0.045766        0.000144               14   \n",
       "7           -0.045519  ...        -0.045760        0.000146               13   \n",
       "8           -0.045564  ...        -0.045796        0.000141               16   \n",
       "9           -0.045553  ...        -0.045788        0.000142               15   \n",
       "10          -0.045576  ...        -0.045806        0.000140               18   \n",
       "11          -0.045568  ...        -0.045804        0.000142               17   \n",
       "12          -0.044842  ...        -0.045051        0.000124                7   \n",
       "13          -0.044853  ...        -0.045058        0.000122                8   \n",
       "14          -0.044882  ...        -0.045081        0.000118               10   \n",
       "15          -0.044883  ...        -0.045078        0.000117                9   \n",
       "16          -0.044898  ...        -0.045097        0.000117               12   \n",
       "17          -0.044890  ...        -0.045092        0.000120               11   \n",
       "18          -0.044373  ...        -0.044571        0.000120                1   \n",
       "19          -0.044375  ...        -0.044576        0.000122                2   \n",
       "20          -0.044383  ...        -0.044583        0.000124                4   \n",
       "21          -0.044378  ...        -0.044579        0.000123                3   \n",
       "22          -0.044383  ...        -0.044589        0.000121                6   \n",
       "23          -0.044383  ...        -0.044587        0.000122                5   \n",
       "\n",
       "    split0_train_score  split1_train_score  split2_train_score  \\\n",
       "0            -0.046840           -0.046922           -0.046878   \n",
       "1            -0.046849           -0.046929           -0.046887   \n",
       "2            -0.046876           -0.046946           -0.046907   \n",
       "3            -0.046892           -0.046960           -0.046920   \n",
       "4            -0.046876           -0.046959           -0.046921   \n",
       "5            -0.046893           -0.046976           -0.046938   \n",
       "6            -0.045710           -0.045791           -0.045758   \n",
       "7            -0.045705           -0.045779           -0.045757   \n",
       "8            -0.045735           -0.045823           -0.045790   \n",
       "9            -0.045731           -0.045810           -0.045782   \n",
       "10           -0.045740           -0.045829           -0.045796   \n",
       "11           -0.045744           -0.045819           -0.045793   \n",
       "12           -0.044914           -0.044996           -0.044976   \n",
       "13           -0.044922           -0.045008           -0.044986   \n",
       "14           -0.044951           -0.045027           -0.045008   \n",
       "15           -0.044945           -0.045028           -0.045002   \n",
       "16           -0.044954           -0.045037           -0.045008   \n",
       "17           -0.044951           -0.045030           -0.045000   \n",
       "18           -0.044215           -0.044316           -0.044285   \n",
       "19           -0.044223           -0.044318           -0.044288   \n",
       "20           -0.044212           -0.044315           -0.044284   \n",
       "21           -0.044210           -0.044307           -0.044275   \n",
       "22           -0.044205           -0.044304           -0.044279   \n",
       "23           -0.044206           -0.044303           -0.044271   \n",
       "\n",
       "    split3_train_score  split4_train_score  mean_train_score  std_train_score  \n",
       "0            -0.046832           -0.046825         -0.046859         0.000036  \n",
       "1            -0.046839           -0.046831         -0.046867         0.000037  \n",
       "2            -0.046856           -0.046841         -0.046885         0.000038  \n",
       "3            -0.046871           -0.046860         -0.046901         0.000036  \n",
       "4            -0.046868           -0.046858         -0.046896         0.000038  \n",
       "5            -0.046884           -0.046872         -0.046912         0.000039  \n",
       "6            -0.045728           -0.045724         -0.045742         0.000029  \n",
       "7            -0.045720           -0.045718         -0.045736         0.000028  \n",
       "8            -0.045757           -0.045753         -0.045772         0.000031  \n",
       "9            -0.045746           -0.045747         -0.045763         0.000029  \n",
       "10           -0.045771           -0.045775         -0.045782         0.000030  \n",
       "11           -0.045768           -0.045763         -0.045778         0.000026  \n",
       "12           -0.044948           -0.044938         -0.044954         0.000029  \n",
       "13           -0.044954           -0.044943         -0.044962         0.000031  \n",
       "14           -0.044967           -0.044953         -0.044981         0.000031  \n",
       "15           -0.044961           -0.044952         -0.044978         0.000032  \n",
       "16           -0.044979           -0.044982         -0.044992         0.000028  \n",
       "17           -0.044972           -0.044976         -0.044986         0.000027  \n",
       "18           -0.044254           -0.044255         -0.044265         0.000034  \n",
       "19           -0.044260           -0.044257         -0.044269         0.000032  \n",
       "20           -0.044253           -0.044255         -0.044264         0.000034  \n",
       "21           -0.044249           -0.044247         -0.044258         0.000032  \n",
       "22           -0.044242           -0.044254         -0.044257         0.000034  \n",
       "23           -0.044245           -0.044247         -0.044254         0.000032  \n",
       "\n",
       "[24 rows x 23 columns]"
      ]
     },
     "execution_count": 20,
     "metadata": {},
     "output_type": "execute_result"
    }
   ],
   "source": [
    "# Examining the results of cross validation \n",
    "pd.DataFrame(opt_rf.cv_results_)"
   ]
  },
  {
   "cell_type": "markdown",
   "metadata": {},
   "source": [
    "We could see that time difference for inference is almost double for random forest with 200 trees as compared to random forest with 100 trees while the erros is almost same. on the contary, random forest with 100 trees gives slightly better result.   "
   ]
  },
  {
   "cell_type": "code",
   "execution_count": 21,
   "metadata": {},
   "outputs": [
    {
     "data": {
      "text/plain": [
       "{'rf__max_depth': 8, 'rf__max_features': 0.5, 'rf__n_estimators': 100}"
      ]
     },
     "execution_count": 21,
     "metadata": {},
     "output_type": "execute_result"
    }
   ],
   "source": [
    "opt_rf.best_params_"
   ]
  },
  {
   "cell_type": "code",
   "execution_count": 22,
   "metadata": {},
   "outputs": [
    {
     "data": {
      "text/plain": [
       "-0.044571445306473945"
      ]
     },
     "execution_count": 22,
     "metadata": {},
     "output_type": "execute_result"
    }
   ],
   "source": [
    "opt_rf.best_score_"
   ]
  },
  {
   "cell_type": "code",
   "execution_count": 24,
   "metadata": {},
   "outputs": [
    {
     "data": {
      "text/plain": [
       "['random_forest_predict_model.pkl']"
      ]
     },
     "execution_count": 24,
     "metadata": {},
     "output_type": "execute_result"
    }
   ],
   "source": [
    "# Saving the random forest model with best parameters\n",
    "joblib.dump(opt_rf.best_estimator_, \"random_forest_predict_model.pkl\", compress=1)"
   ]
  },
  {
   "cell_type": "code",
   "execution_count": null,
   "metadata": {},
   "outputs": [],
   "source": []
  }
 ],
 "metadata": {
  "kernelspec": {
   "display_name": "Python 3",
   "language": "python",
   "name": "python3"
  },
  "language_info": {
   "codemirror_mode": {
    "name": "ipython",
    "version": 3
   },
   "file_extension": ".py",
   "mimetype": "text/x-python",
   "name": "python",
   "nbconvert_exporter": "python",
   "pygments_lexer": "ipython3",
   "version": "3.7.3"
  }
 },
 "nbformat": 4,
 "nbformat_minor": 2
}
